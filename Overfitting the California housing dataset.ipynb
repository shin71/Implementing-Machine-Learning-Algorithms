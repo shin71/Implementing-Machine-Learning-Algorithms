{
  "nbformat": 4,
  "nbformat_minor": 0,
  "metadata": {
    "colab": {
      "name": "Overfitting the California housing dataset.ipynb",
      "provenance": [],
      "authorship_tag": "ABX9TyNccJNK948T6A75fHQgD8SU",
      "include_colab_link": true
    },
    "kernelspec": {
      "name": "python3",
      "display_name": "Python 3"
    },
    "language_info": {
      "name": "python"
    }
  },
  "cells": [
    {
      "cell_type": "markdown",
      "metadata": {
        "id": "view-in-github",
        "colab_type": "text"
      },
      "source": [
        "<a href=\"https://colab.research.google.com/github/shin71/Linear-regression-and-testing/blob/main/Overfitting%20the%20California%20housing%20dataset.ipynb\" target=\"_parent\"><img src=\"https://colab.research.google.com/assets/colab-badge.svg\" alt=\"Open In Colab\"/></a>"
      ]
    },
    {
      "cell_type": "code",
      "execution_count": 70,
      "metadata": {
        "id": "mJrpRBKoxoDF"
      },
      "outputs": [],
      "source": [
        "from sklearn.datasets import fetch_california_housing\n",
        "import pandas as pd\n",
        "from sklearn.linear_model import LinearRegression\n",
        "from sklearn import model_selection\n",
        "import numpy as np\n"
      ]
    },
    {
      "cell_type": "code",
      "source": [
        "housing = fetch_california_housing()\n",
        "X = housing.data\n",
        "Y = housing.target\n",
        "X_overfit = X"
      ],
      "metadata": {
        "id": "ZT6eVUzcx4ki"
      },
      "execution_count": 71,
      "outputs": []
    },
    {
      "cell_type": "code",
      "source": [
        "X.shape"
      ],
      "metadata": {
        "colab": {
          "base_uri": "https://localhost:8080/"
        },
        "id": "lDDjOKgcyiMK",
        "outputId": "805eca79-13a5-46a8-9be6-ebd0628cf19a"
      },
      "execution_count": 72,
      "outputs": [
        {
          "output_type": "execute_result",
          "data": {
            "text/plain": [
              "(20640, 8)"
            ]
          },
          "metadata": {},
          "execution_count": 72
        }
      ]
    },
    {
      "cell_type": "markdown",
      "source": [
        "Now I will overfit the data by adding square columns for each and every column\n",
        "\n",
        "\n",
        "> i.e y = m1x1 + m2x2 + .... + m_(n+1) x1_x1 + m_(n+2) x1_x2 + m_(n+3) x2_x2 + .......\n",
        "\n"
      ],
      "metadata": {
        "id": "L82b0jeUzWVb"
      }
    },
    {
      "cell_type": "code",
      "source": [
        "for i in range(8):\n",
        "    for j in range(i,8):\n",
        "        column = X[:,i]*X[:,j]\n",
        "        X_overfit = np.append(X_overfit,column[:, None], axis=1)\n",
        "X_overfit.shape\n"
      ],
      "metadata": {
        "colab": {
          "base_uri": "https://localhost:8080/"
        },
        "id": "8EAbSzSN0ANU",
        "outputId": "fd547192-80c6-4f3a-ad86-a094b87d7a2a"
      },
      "execution_count": 73,
      "outputs": [
        {
          "output_type": "execute_result",
          "data": {
            "text/plain": [
              "(20640, 44)"
            ]
          },
          "metadata": {},
          "execution_count": 73
        }
      ]
    },
    {
      "cell_type": "markdown",
      "source": [
        "we are using random state 0 to make sure the random split is equal for all data splits so comparison can be optimal"
      ],
      "metadata": {
        "id": "UI8sT6gT7-fv"
      }
    },
    {
      "cell_type": "code",
      "source": [
        "x_train,x_test,y_train,y_test = model_selection.train_test_split(X,Y,random_state = 0,train_size = 0.8)\n",
        "x_train_overfit,x_test_overfit,y_train_overfit,y_test_overfit = model_selection.train_test_split(X_overfit,Y,random_state = 0,train_size = 0.8)"
      ],
      "metadata": {
        "id": "Lon-KpLU7ktM"
      },
      "execution_count": 74,
      "outputs": []
    },
    {
      "cell_type": "code",
      "source": [
        "algo = LinearRegression()\n",
        "algo.fit(x_train,y_train)\n",
        "score1_for_train  = algo.score(x_train,y_train)\n",
        "score1_for_test = algo.score(x_test,y_test)\n",
        "algo.fit(x_train_overfit,y_train_overfit)\n",
        "score2_for_train  = algo.score(x_train_overfit,y_train_overfit)\n",
        "score2_for_test = algo.score(x_test_overfit,y_test_overfit)"
      ],
      "metadata": {
        "id": "6CbA1csn8Uwp"
      },
      "execution_count": 75,
      "outputs": []
    },
    {
      "cell_type": "code",
      "source": [
        "print('score for training data ::::' + str(score1_for_train))\n",
        "print('score for testing data ::::' + str(score1_for_test))\n",
        "print('score for training data where it is overfitted ::::' + str(score2_for_train))\n",
        "print('score for testing data where it is overfitted ::::' + str(score2_for_test))\n"
      ],
      "metadata": {
        "colab": {
          "base_uri": "https://localhost:8080/"
        },
        "id": "jGdDNAJ79TxZ",
        "outputId": "431ae82d-896b-49c4-a174-01082d6146d5"
      },
      "execution_count": 76,
      "outputs": [
        {
          "output_type": "stream",
          "name": "stdout",
          "text": [
            "score for training data ::::0.6088968118672871\n",
            "score for testing data ::::0.5943232652466175\n",
            "score for training data where it is overfitted ::::0.6864099059497231\n",
            "score for testing data where it is overfitted ::::-1.1195871912881992\n"
          ]
        }
      ]
    },
    {
      "cell_type": "markdown",
      "source": [
        "It is clear that the data is overfitted because the testing score for the overfitted data is horrendous as expected"
      ],
      "metadata": {
        "id": "IeBOrdXR-WL9"
      }
    }
  ]
}