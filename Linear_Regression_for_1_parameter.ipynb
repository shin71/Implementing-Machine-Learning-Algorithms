{
  "nbformat": 4,
  "nbformat_minor": 0,
  "metadata": {
    "colab": {
      "name": "Linear Regression for 1 parameter.ipynb",
      "provenance": [],
      "collapsed_sections": [],
      "authorship_tag": "ABX9TyPqORUFI6dgH2vXZx0y/b8n",
      "include_colab_link": true
    },
    "kernelspec": {
      "name": "python3",
      "display_name": "Python 3"
    },
    "language_info": {
      "name": "python"
    }
  },
  "cells": [
    {
      "cell_type": "markdown",
      "metadata": {
        "id": "view-in-github",
        "colab_type": "text"
      },
      "source": [
        "<a href=\"https://colab.research.google.com/github/shin71/Linear-regression-for-1-parameter/blob/main/Linear_Regression_for_1_parameter.ipynb\" target=\"_parent\"><img src=\"https://colab.research.google.com/assets/colab-badge.svg\" alt=\"Open In Colab\"/></a>"
      ]
    },
    {
      "cell_type": "code",
      "execution_count": null,
      "metadata": {
        "id": "dQxAg3Uvg21n"
      },
      "outputs": [],
      "source": [
        "import numpy as np"
      ]
    },
    {
      "cell_type": "code",
      "source": [
        "def fit(x_train,y_train):\n",
        "  m =  (np.mean(x_train*y_train) - np.mean(x_train)*np.mean(y_train) )/( np.mean(x_train**2) + (np.mean(x_train))**2)\n",
        "  c = (  np.mean(y_train) - m * np.mean(x_train) )\n",
        "  return (m,c)"
      ],
      "metadata": {
        "id": "0X6RvFg3hAAG"
      },
      "execution_count": null,
      "outputs": []
    },
    {
      "cell_type": "code",
      "source": [
        "def predict(x,m,c):\n",
        "  y_predict = m*x + c\n",
        "  return y_predict"
      ],
      "metadata": {
        "id": "6_psnRNMhnnz"
      },
      "execution_count": null,
      "outputs": []
    },
    {
      "cell_type": "code",
      "source": [
        "def coeffecient(y_truth,y_predict):\n",
        "  u  = (y_truth - y_predict)**2.sum()\n",
        "  v  = ((y_truth - y_truth.mean())**2).sum()\n",
        "  d = 1 - (u/v)\n",
        "  return d"
      ],
      "metadata": {
        "id": "l-X1sNJ2iVaq"
      },
      "execution_count": null,
      "outputs": []
    },
    {
      "cell_type": "code",
      "source": [
        "def cost(y_truth,y_predict):\n",
        "  return ( ((y_truth - y_predict)**2).sum())"
      ],
      "metadata": {
        "id": "blfCrql0jFP9"
      },
      "execution_count": null,
      "outputs": []
    },
    {
      "cell_type": "code",
      "source": [
        "x_train = np.array(x_train_list)\n",
        "y_train = np.array(y_train_list)\n",
        "x_test = np.array(x_test_list)\n",
        "y_truth = np.array(y_test_list)\n",
        "m,c = fit(x_train,y_train)\n",
        "y_predict = predict(x_test,m,c)\n",
        "cd  = coeffecient(y_truth,y_predict)\n",
        "cost1 = cost(y_truth,y_predict)\n"
      ],
      "metadata": {
        "id": "Atc175fmjSQ9"
      },
      "execution_count": null,
      "outputs": []
    }
  ]
}