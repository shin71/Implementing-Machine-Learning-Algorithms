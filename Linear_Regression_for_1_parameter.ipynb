{
  "nbformat": 4,
  "nbformat_minor": 0,
  "metadata": {
    "colab": {
      "name": "Linear Regression for 1 parameter.ipynb",
      "provenance": [],
      "collapsed_sections": [],
      "authorship_tag": "ABX9TyORHocRCvWpQCbNkXdkuUPL",
      "include_colab_link": true
    },
    "kernelspec": {
      "name": "python3",
      "display_name": "Python 3"
    },
    "language_info": {
      "name": "python"
    }
  },
  "cells": [
    {
      "cell_type": "markdown",
      "metadata": {
        "id": "view-in-github",
        "colab_type": "text"
      },
      "source": [
        "<a href=\"https://colab.research.google.com/github/shin71/Linear-regression-for-1-parameter/blob/main/Linear_Regression_for_1_parameter.ipynb\" target=\"_parent\"><img src=\"https://colab.research.google.com/assets/colab-badge.svg\" alt=\"Open In Colab\"/></a>"
      ]
    },
    {
      "cell_type": "code",
      "execution_count": 47,
      "metadata": {
        "id": "dQxAg3Uvg21n"
      },
      "outputs": [],
      "source": [
        "import numpy as np\n",
        "import matplotlib.pyplot as plt\n"
      ]
    },
    {
      "cell_type": "code",
      "source": [
        "def fit(x_train,y_train):\n",
        "  m =  (np.mean(x_train*y_train) - ( np.mean(x_train)*np.mean(y_train) ) )/( np.mean(x_train**2) - (np.mean(x_train))**2)\n",
        "  c = (  np.mean(y_train) - (m * np.mean(x_train)) )\n",
        "  return (m,c)"
      ],
      "metadata": {
        "id": "0X6RvFg3hAAG"
      },
      "execution_count": 48,
      "outputs": []
    },
    {
      "cell_type": "code",
      "source": [
        "def predict(x,m,c):\n",
        "  y_predict = (m*x) + c\n",
        "  return y_predict"
      ],
      "metadata": {
        "id": "6_psnRNMhnnz"
      },
      "execution_count": 49,
      "outputs": []
    },
    {
      "cell_type": "code",
      "source": [
        "def coeffecient(y_truth,y_predict):\n",
        "  u  = ((y_truth - y_predict)**2).sum()\n",
        "  v  = ((y_truth - y_truth.mean())**2).sum()\n",
        "  d = 1 - (u/v)\n",
        "  return d"
      ],
      "metadata": {
        "id": "l-X1sNJ2iVaq"
      },
      "execution_count": 50,
      "outputs": []
    },
    {
      "cell_type": "code",
      "source": [
        "def cost(y_truth,y_predict):\n",
        "  return ( ((y_truth - y_predict)**2).sum())"
      ],
      "metadata": {
        "id": "blfCrql0jFP9"
      },
      "execution_count": 51,
      "outputs": []
    },
    {
      "cell_type": "code",
      "source": [
        "from sklearn import model_selection\n",
        "data = np.loadtxt(\"data.csv\",delimiter=',')\n",
        "x_data  = data[:,0]\n",
        "y_data  = data[:,1]\n",
        "x_train,x_test,y_train,y_truth = model_selection.train_test_split(x_data,y_data,test_size = 0.3)\n",
        "\n",
        "m,c = fit(x_train,y_train)\n",
        "y_predict = predict(x_test,m,c)\n",
        "cd  = coeffecient(y_truth,y_predict)\n",
        "cost1 = cost(y_truth,y_predict)\n",
        "print(\"cost is \" + str(cost1))\n",
        "print(\"coeffecient is\" + str(cd))\n"
      ],
      "metadata": {
        "id": "Atc175fmjSQ9",
        "colab": {
          "base_uri": "https://localhost:8080/"
        },
        "outputId": "119b3e8d-44c5-4716-f161-ed011c445d03"
      },
      "execution_count": 52,
      "outputs": [
        {
          "output_type": "stream",
          "name": "stdout",
          "text": [
            "cost is 2597.9297385760938\n",
            "coeffecient is0.6453837369899997\n"
          ]
        }
      ]
    },
    {
      "cell_type": "code",
      "source": [
        "#visualization of accuracy\n",
        "plt.scatter(x_test,y_truth)\n",
        "plt.plot(y_predict,x_test)\n",
        "plt.grid()\n",
        "plt.show()"
      ],
      "metadata": {
        "colab": {
          "base_uri": "https://localhost:8080/",
          "height": 265
        },
        "id": "YqW9awmVpYqs",
        "outputId": "9c588371-3ee1-4c7c-db71-b403509795d9"
      },
      "execution_count": 53,
      "outputs": [
        {
          "output_type": "display_data",
          "data": {
            "image/png": "[encoded data removed]",
            "text/plain": [
              "<Figure size 432x288 with 1 Axes>"
            ]
          },
          "metadata": {
            "needs_background": "light"
          }
        }
      ]
    }
  ]
}