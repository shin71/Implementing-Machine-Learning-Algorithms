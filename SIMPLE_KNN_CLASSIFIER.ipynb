{
  "nbformat": 4,
  "nbformat_minor": 0,
  "metadata": {
    "colab": {
      "name": "SIMPLE KNN CLASSIFIER.ipynb",
      "provenance": [],
      "authorship_tag": "ABX9TyOVfaVxPA8r3Z/CB59DRg96",
      "include_colab_link": true
    },
    "kernelspec": {
      "name": "python3",
      "display_name": "Python 3"
    },
    "language_info": {
      "name": "python"
    }
  },
  "cells": [
    {
      "cell_type": "markdown",
      "metadata": {
        "id": "view-in-github",
        "colab_type": "text"
      },
      "source": [
        "<a href=\"https://colab.research.google.com/github/shin71/Implementing-Machine-Learning-Algorithms/blob/main/SIMPLE_KNN_CLASSIFIER.ipynb\" target=\"_parent\"><img src=\"https://colab.research.google.com/assets/colab-badge.svg\" alt=\"Open In Colab\"/></a>"
      ]
    },
    {
      "cell_type": "markdown",
      "source": [
        "\n",
        "# SIMPLE KNN CLASSIFIER"
      ],
      "metadata": {
        "id": "8p-NhXgIC-Ba"
      }
    },
    {
      "cell_type": "markdown",
      "source": [
        "\n",
        "\n",
        "1.   x_train - training data\n",
        "2.   y-train - result of the training data\n",
        "3.   x_test - testing data,y_test - result of testing data\n",
        "4.   k is the neighbors we will consider\n",
        "5.   Counter is used to get the majority class\n",
        "6.   We can find the optimal k using cross validation but here we are just using k as 5\n",
        "7.   Accuracy score is used to get the score of our predictions compared to other predictions\n",
        "\n",
        "\n"
      ],
      "metadata": {
        "id": "47zdb4gEI445"
      }
    },
    {
      "cell_type": "code",
      "source": [
        "from sklearn.metrics import accuracy_score as score\n",
        "from collections import Counter\n",
        "from sklearn.model_selection import train_test_split\n",
        "from sklearn import datasets"
      ],
      "metadata": {
        "id": "UDUbnG19DEe_"
      },
      "execution_count": 20,
      "outputs": []
    },
    {
      "cell_type": "code",
      "source": [
        "dataset = datasets.load_breast_cancer()\n",
        "X_train, X_test, Y_train, Y_test = train_test_split(dataset.data, dataset.target, test_size = 0.2, random_state = 0)"
      ],
      "metadata": {
        "id": "7venx0irJnm_"
      },
      "execution_count": 21,
      "outputs": []
    },
    {
      "cell_type": "code",
      "source": [
        "def class_of_point(X_train,Y_train,test_point,k):\n",
        "    distance_from_test_point = []\n",
        "    for index in range(X_train.shape[0]):\n",
        "        point = X_train[index,:]\n",
        "        #print(point.shape)#print(test_point.shape)\n",
        "        d = ( (point - test_point)**2).sum()\n",
        "        distance_from_test_point.append( (d,index)  )\n",
        "    distance_from_test_point = sorted(distance_from_test_point)\n",
        "    knn_classes = []\n",
        "    for i in range(k):\n",
        "        ind = distance_from_test_point[i][1]\n",
        "        class1 = Y_train[ind]\n",
        "        knn_classes.append(class1)\n",
        "    majortity = Counter(knn_classes).most_common(1)[0][0]\n",
        "    return majortity"
      ],
      "metadata": {
        "id": "cqNhJ4ljD9XZ"
      },
      "execution_count": 22,
      "outputs": []
    },
    {
      "cell_type": "code",
      "source": [
        "def get_predictions(X_train,Y_train,X_test,k):\n",
        "    predictions = []\n",
        "    for index in range(X_test.shape[0]):\n",
        "        test_point = X_test[index,:]\n",
        "        predictions.append(   class_of_point(X_train,Y_train,test_point,k)          )\n",
        "    return predictions"
      ],
      "metadata": {
        "id": "fo-PXBmZHp2a"
      },
      "execution_count": 23,
      "outputs": []
    },
    {
      "cell_type": "code",
      "source": [
        "def train(X_train,Y_train):\n",
        "    return"
      ],
      "metadata": {
        "id": "xg01Sw-9Ie1K"
      },
      "execution_count": 24,
      "outputs": []
    },
    {
      "cell_type": "code",
      "source": [
        "train(X_train,Y_train)\n",
        "pred = get_predictions(X_train,Y_train,X_test,5)\n",
        "score(Y_test,pred)"
      ],
      "metadata": {
        "colab": {
          "base_uri": "https://localhost:8080/"
        },
        "id": "i-ZcxrobIkGv",
        "outputId": "c01cd9c5-d45a-4d75-e989-df04678ecb91"
      },
      "execution_count": 25,
      "outputs": [
        {
          "output_type": "execute_result",
          "data": {
            "text/plain": [
              "0.9385964912280702"
            ]
          },
          "metadata": {},
          "execution_count": 25
        }
      ]
    }
  ]
}