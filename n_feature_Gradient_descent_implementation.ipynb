{
  "nbformat": 4,
  "nbformat_minor": 0,
  "metadata": {
    "colab": {
      "name": "n-feature Gradient descent implementation.ipynb",
      "provenance": [],
      "authorship_tag": "ABX9TyMfpKdieeAH20LLkUKvMtLd",
      "include_colab_link": true
    },
    "kernelspec": {
      "name": "python3",
      "display_name": "Python 3"
    },
    "language_info": {
      "name": "python"
    }
  },
  "cells": [
    {
      "cell_type": "markdown",
      "metadata": {
        "id": "view-in-github",
        "colab_type": "text"
      },
      "source": [
        "<a href=\"https://colab.research.google.com/github/shin71/Linear-regression-and-testing/blob/main/n_feature_Gradient_descent_implementation.ipynb\" target=\"_parent\"><img src=\"https://colab.research.google.com/assets/colab-badge.svg\" alt=\"Open In Colab\"/></a>"
      ]
    },
    {
      "cell_type": "code",
      "execution_count": 13,
      "metadata": {
        "id": "m9HrVNev-jR1"
      },
      "outputs": [],
      "source": [
        "import numpy as np"
      ]
    },
    {
      "cell_type": "code",
      "source": [
        "def partial_derivative(m,X,Y,j):\n",
        "    slope = 0\n",
        "    for i in range(X.shape[0]):\n",
        "        val = (Y[i] - (m*X[i,:]).sum())*X[i,j]\n",
        "        slope+=val\n",
        "    slope = (-2*slope)/(X.shape[0])\n",
        "    return slope"
      ],
      "metadata": {
        "id": "q0vUpVkrEjoi"
      },
      "execution_count": 14,
      "outputs": []
    },
    {
      "cell_type": "markdown",
      "source": [
        "We are taking partial derivate with respect to each coeffecient m[j] of each feature\n",
        "thats why we are looping over every feature\n"
      ],
      "metadata": {
        "id": "dYyXacaGNpEZ"
      }
    },
    {
      "cell_type": "code",
      "source": [
        "def gradient_descent(learning_rate,X,Y,iter):\n",
        "    m = np.zeros(X.shape[1])\n",
        "    for i in range(iter):\n",
        "        for j in range(X.shape[1]):\n",
        "            m[j] = m[j] + learning_rate * partial_derivative(m,X,Y,j)\n",
        "    return m"
      ],
      "metadata": {
        "id": "5I-vgkLy-z1P"
      },
      "execution_count": 15,
      "outputs": []
    },
    {
      "cell_type": "code",
      "source": [
        "data = np.loadtxt('data.csv',delimiter = ',')\n",
        "#print(data)\n",
        "#:-1 doesn't include last column\n",
        "X = data[:,:-1]\n",
        "# -1 only includes last column\n",
        "Y = data[:,-1]\n",
        "#print(X)\n",
        "column_c = np.zeros(shape  =  (X.shape[0],1) ) + 1\n",
        "#adding a column of 1s at the end for c i.e c = m_(n+1) * x_(n+1) where x_(n+1) will always be 1\n",
        "X[:,:-1] = column_c\n",
        "#print(X)\n",
        "iter = 100\n",
        "learning_rate = 0.00000001\n",
        "m  = gradient_descent(learning_rate,X,Y,iter)\n",
        "score = 0\n",
        "for i in range(X.shape[0]):\n",
        "    y_pred = (m*X[i,:]).sum()\n",
        "    score+=(Y[i] - y_pred)**2\n",
        "score = score/X.shape[0]\n",
        "print(score)"
      ],
      "metadata": {
        "colab": {
          "base_uri": "https://localhost:8080/"
        },
        "id": "p9oFAEVkGunv",
        "outputId": "83e5214c-f995-425a-b882-51071cae4369"
      },
      "execution_count": 16,
      "outputs": [
        {
          "output_type": "stream",
          "name": "stdout",
          "text": [
            "5619.705285397866\n"
          ]
        }
      ]
    }
  ]
}