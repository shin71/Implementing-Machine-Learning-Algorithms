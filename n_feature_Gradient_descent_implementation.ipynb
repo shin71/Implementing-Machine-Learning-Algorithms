{
  "nbformat": 4,
  "nbformat_minor": 0,
  "metadata": {
    "colab": {
      "name": "n-feature Gradient descent implementation.ipynb",
      "provenance": [],
      "authorship_tag": "ABX9TyOj635AQ8unggTu53GtwrBg",
      "include_colab_link": true
    },
    "kernelspec": {
      "name": "python3",
      "display_name": "Python 3"
    },
    "language_info": {
      "name": "python"
    }
  },
  "cells": [
    {
      "cell_type": "markdown",
      "metadata": {
        "id": "view-in-github",
        "colab_type": "text"
      },
      "source": [
        "<a href=\"https://colab.research.google.com/github/shin71/Linear-regression-and-testing/blob/main/n_feature_Gradient_descent_implementation.ipynb\" target=\"_parent\"><img src=\"https://colab.research.google.com/assets/colab-badge.svg\" alt=\"Open In Colab\"/></a>"
      ]
    },
    {
      "cell_type": "code",
      "execution_count": 165,
      "metadata": {
        "id": "m9HrVNev-jR1"
      },
      "outputs": [],
      "source": [
        "import numpy as np"
      ]
    },
    {
      "cell_type": "code",
      "source": [
        "def partial_derivative(m,X,Y,j):\n",
        "    slope = 0\n",
        "    for i in range(X.shape[0]):\n",
        "        val = (Y[i] - (m*X[i,:]).sum())*X[i,j]\n",
        "        slope+=val\n",
        "    slope = (-2*slope)/(X.shape[0])\n",
        "    return slope"
      ],
      "metadata": {
        "id": "q0vUpVkrEjoi"
      },
      "execution_count": 166,
      "outputs": []
    },
    {
      "cell_type": "markdown",
      "source": [
        "We are taking partial derivate with respect to each coeffecient m[j] of each feature\n",
        "thats why we are looping over every feature\n"
      ],
      "metadata": {
        "id": "dYyXacaGNpEZ"
      }
    },
    {
      "cell_type": "code",
      "source": [
        "def gradient_descent(learning_rate,X,Y,iter):\n",
        "    m = np.zeros(X.shape[1])\n",
        "    for i in range(iter):\n",
        "        for j in range(X.shape[1]):\n",
        "            m[j] = m[j] - learning_rate * partial_derivative(m,X,Y,j)\n",
        "    return m"
      ],
      "metadata": {
        "id": "5I-vgkLy-z1P"
      },
      "execution_count": 167,
      "outputs": []
    },
    {
      "cell_type": "code",
      "source": [
        "def append_column_of1s(x):\n",
        "    a = np.zeros((x.shape[0],1)) + 1\n",
        "    return np.append(x,a,axis = 1)"
      ],
      "metadata": {
        "id": "p9oFAEVkGunv"
      },
      "execution_count": 168,
      "outputs": []
    },
    {
      "cell_type": "code",
      "source": [
        "#this may cause overfitting but with the data i used it worked well so use with caution \n",
        "def fit_extra(X):\n",
        "    l = X.shape[1]\n",
        "    for i in range(l):\n",
        "        for j in range(i,l):\n",
        "            column = X[:,i]*X[:,j]\n",
        "            X = np.append(X,column[:, None], axis=1)\n",
        "    return X"
      ],
      "metadata": {
        "id": "fPwJKkPg39d3"
      },
      "execution_count": 169,
      "outputs": []
    },
    {
      "cell_type": "code",
      "source": [
        "train_data = np.loadtxt('train.csv',delimiter= ',')\n",
        "#:-1 doesn't include last column\n",
        "X = train_data[:,:-1]\n",
        "# -1 only includes last column\n",
        "Y = train_data[:,-1]\n",
        "X = append_column_of1s(X)\n",
        "print(X.shape)\n",
        "X = fit_extra(X)\n",
        "iter = 1000\n",
        "learning_rate = 0.005\n",
        "m  = gradient_descent(learning_rate,X,Y,iter)\n",
        "print(m.shape)\n",
        "test_data = np.loadtxt('test.csv',delimiter = ',')\n",
        "x_test = test_data\n",
        "x_test = append_column_of1s(x_test)\n",
        "x_test = fit_extra(x_test)\n",
        "predictions = []\n",
        "for i in range(x_test.shape[0]):\n",
        "    pred = (m*x_test[i,:]).sum()\n",
        "    predictions.append(pred)\n",
        "predictions = np.array(predictions)"
      ],
      "metadata": {
        "colab": {
          "base_uri": "https://localhost:8080/"
        },
        "id": "4jpVxOUn0fYH",
        "outputId": "8f4704f1-ef8b-4f35-8c2f-e33b84ea3835"
      },
      "execution_count": 170,
      "outputs": [
        {
          "output_type": "stream",
          "name": "stdout",
          "text": [
            "(379, 14)\n",
            "(119,)\n"
          ]
        }
      ]
    },
    {
      "cell_type": "code",
      "source": [
        "#if you want to save the data in csv file\n",
        "import pandas as pd \n",
        "np.savetxt(\"predictn.csv\",predictions,fmt='%.10f')"
      ],
      "metadata": {
        "id": "eBD-5KrDXGp1"
      },
      "execution_count": 171,
      "outputs": []
    }
  ]
}