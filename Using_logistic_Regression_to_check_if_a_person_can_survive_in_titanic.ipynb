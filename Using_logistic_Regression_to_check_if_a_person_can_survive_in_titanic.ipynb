{
  "nbformat": 4,
  "nbformat_minor": 0,
  "metadata": {
    "colab": {
      "name": "Using logistic Regression to check if a person can survive in titanic.ipynb",
      "provenance": [],
      "authorship_tag": "ABX9TyMeHtQKFOrkvYUMBp0CADTE",
      "include_colab_link": true
    },
    "kernelspec": {
      "name": "python3",
      "display_name": "Python 3"
    },
    "language_info": {
      "name": "python"
    }
  },
  "cells": [
    {
      "cell_type": "markdown",
      "metadata": {
        "id": "view-in-github",
        "colab_type": "text"
      },
      "source": [
        "<a href=\"https://colab.research.google.com/github/shin71/Linear-regression-and-testing/blob/main/Using_logistic_Regression_to_check_if_a_person_can_survive_in_titanic.ipynb\" target=\"_parent\"><img src=\"https://colab.research.google.com/assets/colab-badge.svg\" alt=\"Open In Colab\"/></a>"
      ]
    },
    {
      "cell_type": "code",
      "execution_count": 174,
      "metadata": {
        "id": "IYdNsT69wDCr"
      },
      "outputs": [],
      "source": [
        "from sklearn.linear_model import LogisticRegression\n",
        "import numpy as np\n",
        "import pandas as pd\n",
        "from sklearn.preprocessing import StandardScaler"
      ]
    },
    {
      "cell_type": "code",
      "source": [
        "scaler = StandardScaler()"
      ],
      "metadata": {
        "id": "aKNxvRWy-qq-"
      },
      "execution_count": 175,
      "outputs": []
    },
    {
      "cell_type": "code",
      "source": [
        "def cleandata(df):\n",
        "    del df['Name']#getting rid of name because it doesn't affect the result\n",
        "    del df['Fare']#fare has nothing to do with survival\n",
        "    del df['Ticket']#ticket doesn't help\n",
        "    del df['Cabin']#position of cabin doesn't help either as everybody will comeup for evacuation and not sit there\n",
        "    df.loc[df[\"Sex\"] == \"male\", \"Sex\"] = 1\n",
        "    df.loc[df[\"Sex\"] == \"female\", \"Sex\"] = 0\n",
        "    x = df['Age'].value_counts().index[:5]\n",
        "    x = (sum(x))/5\n",
        "    #replacing missing ages with the mean of top 5 ages\n",
        "    df.loc[ df[\"Age\"].isna()  ,  \"Age\" ] = x\n",
        "    x = df['Embarked'].value_counts().index[0]\n",
        "    df.loc[ df[\"Embarked\"].isna()  ,  \"Embarked\" ] = x\n",
        "    df.loc[ df[\"Embarked\"] == 'S'  ,  \"Embarked\" ] = 0\n",
        "    df.loc[ df[\"Embarked\"] == 'Q'  ,  \"Embarked\" ] = 1\n",
        "    df.loc[ df[\"Embarked\"] == 'C'  ,  \"Embarked\" ] = 2\n",
        "    return df"
      ],
      "metadata": {
        "id": "N1xS6mj71aEC"
      },
      "execution_count": 176,
      "outputs": []
    },
    {
      "cell_type": "code",
      "source": [
        "df = pd.read_csv('train.csv')\n",
        "df = cleandata(df)\n",
        "train  = df.values\n",
        "X = train[:,:-1]\n",
        "Y = train[:,-1]\n",
        "scaler.fit(X)\n",
        "scaler.transform(X)\n",
        "Y=Y.astype('int')\n",
        "df = pd.read_csv('test.csv')\n",
        "df = cleandata(df)\n",
        "test = df.values\n",
        "scaler.transform(test)"
      ],
      "metadata": {
        "colab": {
          "base_uri": "https://localhost:8080/"
        },
        "id": "2b1mxzfy6CfN",
        "outputId": "2b7c0a02-1cc7-48f3-80cf-712da3484cac"
      },
      "execution_count": 177,
      "outputs": [
        {
          "output_type": "execute_result",
          "data": {
            "text/plain": [
              "array([[-0.35668092,  0.75126747, -1.61261765,  0.43682178,  0.69411756,\n",
              "        -0.58789299],\n",
              "       [-1.56002866, -1.33108386,  1.57042961, -0.48951775, -0.47676762,\n",
              "        -0.58789299],\n",
              "       [ 0.84666683,  0.75126747, -0.54125053, -0.48951775, -0.47676762,\n",
              "         0.65486814],\n",
              "       ...,\n",
              "       [-1.56002866, -1.33108386, -0.91389996,  0.43682178, -0.47676762,\n",
              "         1.89762926],\n",
              "       [ 0.84666683,  0.75126747,  1.10461781, -0.48951775, -0.47676762,\n",
              "        -0.58789299],\n",
              "       [-0.35668092,  0.75126747,  0.59998837, -0.48951775,  1.86500274,\n",
              "        -0.58789299]])"
            ]
          },
          "metadata": {},
          "execution_count": 177
        }
      ]
    },
    {
      "cell_type": "code",
      "source": [
        "#saga solver is good for many features\n",
        "#penalty none is good because only 5 features present so overfitting may not occur\n",
        "clf = LogisticRegression(solver = 'saga',penalty = 'none')\n",
        "clf.fit(X,Y)\n",
        "pred = clf.predict(test)"
      ],
      "metadata": {
        "colab": {
          "base_uri": "https://localhost:8080/"
        },
        "id": "4Tj54Qg5w-kW",
        "outputId": "27ad175d-709b-4e1b-d56e-cf8495635b3b"
      },
      "execution_count": 178,
      "outputs": [
        {
          "output_type": "stream",
          "name": "stderr",
          "text": [
            "/usr/local/lib/python3.7/dist-packages/sklearn/linear_model/_sag.py:354: ConvergenceWarning: The max_iter was reached which means the coef_ did not converge\n",
            "  ConvergenceWarning,\n"
          ]
        }
      ]
    },
    {
      "cell_type": "code",
      "source": [
        "np.savetxt(\"predictn.csv\",pred,fmt='%.10f')"
      ],
      "metadata": {
        "id": "LN9uji1lw0AP"
      },
      "execution_count": 179,
      "outputs": []
    }
  ]
}